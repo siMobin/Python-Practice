{
 "cells": [
  {
   "cell_type": "markdown",
   "metadata": {},
   "source": [
    "## Pyramid"
   ]
  },
  {
   "cell_type": "code",
   "execution_count": null,
   "metadata": {},
   "outputs": [],
   "source": [
    "# Pyramid\n",
    "height = int(input(\"Height: \"))  # Height of the pyramid\n",
    "\n",
    "for i in range(height):\n",
    "    # Print leading spaces\n",
    "    for j in range(height - 1, i, -1):\n",
    "        print(\"  \", end=\"\")\n",
    "\n",
    "    # Print stars\n",
    "    for k in range(2 * i + 1):\n",
    "        print(\"* \", end=\"\")\n",
    "\n",
    "    # Move to the next line\n",
    "    print()\n"
   ]
  }
 ],
 "metadata": {
  "kernelspec": {
   "display_name": "Learning_Python",
   "language": "python",
   "name": "python3"
  },
  "language_info": {
   "codemirror_mode": {
    "name": "ipython",
    "version": 3
   },
   "file_extension": ".py",
   "mimetype": "text/x-python",
   "name": "python",
   "nbconvert_exporter": "python",
   "pygments_lexer": "ipython3",
   "version": "3.12.4"
  }
 },
 "nbformat": 4,
 "nbformat_minor": 2
}
