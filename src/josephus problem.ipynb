{
 "cells": [
  {
   "cell_type": "markdown",
   "metadata": {},
   "source": [
    "### Josephus problem - normal!"
   ]
  },
  {
   "cell_type": "code",
   "execution_count": null,
   "metadata": {},
   "outputs": [],
   "source": [
    "def josephus_iterative(n, k):\n",
    "    result = 0  # The position for one person\n",
    "    for i in range(2, n + 1):\n",
    "        result = (result + k) % i\n",
    "    return result\n",
    "\n",
    "\n",
    "# Example usage\n",
    "n = int(input(\"Input population: \"))  # Number of people\n",
    "k = 2  # Every k-th person is eliminated\n",
    "result = josephus_iterative(n, k)\n",
    "print(f\" {result + 1}\")  # Adding 1 for 1-based index\n"
   ]
  },
  {
   "cell_type": "markdown",
   "metadata": {},
   "source": [
    "### Josephus problem - easy!"
   ]
  },
  {
   "cell_type": "code",
   "execution_count": null,
   "metadata": {},
   "outputs": [],
   "source": [
    "n = int(input(\"\\nInput population: \"))\n",
    "\n",
    "# Find the largest power of 2 less than or equal to n\n",
    "k = 0\n",
    "while (1 << k) <= n:  # (1 << k) is equivalent to 2**k\n",
    "    k += 1\n",
    "k -= 1  # Decrement to get the largest k\n",
    "\n",
    "# Calculate the difference\n",
    "x = remainder = n - (1 << k)\n",
    "\n",
    "# if remainder == 0:\n",
    "#     output = f\"2**{k}\"\n",
    "# else:\n",
    "#     output = f\"2**{k} + {x}\"\n",
    "\n",
    "# print(output)\n",
    "print(2 * x + 1)\n"
   ]
  }
 ],
 "metadata": {
  "kernelspec": {
   "display_name": "Python 3",
   "language": "python",
   "name": "python3"
  },
  "language_info": {
   "codemirror_mode": {
    "name": "ipython",
    "version": 3
   },
   "file_extension": ".py",
   "mimetype": "text/x-python",
   "name": "python",
   "nbconvert_exporter": "python",
   "pygments_lexer": "ipython3",
   "version": "3.12.4"
  }
 },
 "nbformat": 4,
 "nbformat_minor": 2
}
