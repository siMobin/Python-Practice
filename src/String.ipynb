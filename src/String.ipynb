{
 "cells": [
  {
   "cell_type": "markdown",
   "metadata": {},
   "source": [
    "## Find words that contains 'fuck' or 'asshole'"
   ]
  },
  {
   "cell_type": "code",
   "execution_count": null,
   "metadata": {},
   "outputs": [],
   "source": [
    "x = [\"ass\", \"shit\", \"asshole\", \"bitch\", \"pussy\", \"fuck\"]\n",
    "\n",
    "for i in x:\n",
    "    if i == \"fuck\" or i == \"asshole\":\n",
    "        print(i)\n",
    "    else:\n",
    "        pass"
   ]
  }
 ],
 "metadata": {
  "language_info": {
   "name": "python"
  }
 },
 "nbformat": 4,
 "nbformat_minor": 2
}
