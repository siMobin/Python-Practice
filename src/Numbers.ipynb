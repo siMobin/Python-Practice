{
 "cells": [
  {
   "cell_type": "markdown",
   "metadata": {},
   "source": [
    "### Check prime number\n"
   ]
  },
  {
   "cell_type": "code",
   "execution_count": null,
   "metadata": {},
   "outputs": [],
   "source": [
    "# Check prime number\n",
    "x = int(input(\"Enter a number: \"))\n",
    "\n",
    "for i in range(2, x):\n",
    "    if x % i == 0:\n",
    "        print(\"Not a Prime number\")\n",
    "        break\n",
    "else:\n",
    "    print(\"it's a Prime number\")"
   ]
  },
  {
   "cell_type": "markdown",
   "metadata": {},
   "source": [
    "## Do some Calculation - manually\n"
   ]
  },
  {
   "cell_type": "code",
   "execution_count": null,
   "metadata": {},
   "outputs": [],
   "source": [
    "x = input(\"Enter the problem: \")\n",
    "\n",
    "print(eval(x))"
   ]
  },
  {
   "cell_type": "markdown",
   "metadata": {},
   "source": [
    "## Array\n"
   ]
  },
  {
   "cell_type": "markdown",
   "metadata": {},
   "source": [
    "#### Create an array, append elements, then find the index of the element\n"
   ]
  },
  {
   "cell_type": "code",
   "execution_count": null,
   "metadata": {},
   "outputs": [],
   "source": [
    "from array import *\n",
    "\n",
    "arr = array(\"i\", [])\n",
    "\n",
    "n = int(input(\"Enter the size of the array: \"))\n",
    "\n",
    "for i in range(n):\n",
    "    x = int(input(\"Enter the elements: \"))\n",
    "    arr.append(x)\n",
    "\n",
    "print(arr)  # optional\n",
    "\n",
    "e = int(input(\"Enter the element to be searched: \"))\n",
    "# this built-in function doesn't return if there is multiple index\n",
    "# print(arr.index(e))\n",
    "\n",
    "k = 0\n",
    "for i in arr:\n",
    "    if i == e:\n",
    "        print(k)\n",
    "        # break\n",
    "    k += 1"
   ]
  },
  {
   "cell_type": "markdown",
   "metadata": {},
   "source": [
    "### Fibonacci series\n"
   ]
  },
  {
   "cell_type": "code",
   "execution_count": null,
   "metadata": {},
   "outputs": [],
   "source": [
    "# fibonacci series\n",
    "\"\"\"\n",
    "    Calculates and prints the Fibonacci series up to the given number.\n",
    "    Parameters:\n",
    "        x (int): The number of Fibonacci numbers to calculate.\n",
    "\n",
    "    Returns:\n",
    "        None\n",
    "\"\"\"\n",
    "\n",
    "\n",
    "def fib(x):\n",
    "    if x <= 1:\n",
    "        print(0)\n",
    "        return\n",
    "\n",
    "    a, b = 0, 1\n",
    "    for i in range(x):\n",
    "        print(a, end=\", \")\n",
    "        a, b = b, a + b\n",
    "\n",
    "\n",
    "x = int(input(\"Enter the size: \"))\n",
    "fib(x)  # call the function"
   ]
  },
  {
   "cell_type": "markdown",
   "metadata": {},
   "source": [
    "### Factorial\n"
   ]
  },
  {
   "cell_type": "code",
   "execution_count": null,
   "metadata": {},
   "outputs": [],
   "source": [
    "# Factorial\n",
    "def fact(x):\n",
    "    if x < 0:\n",
    "        print(f\"Factorial is not defined for the number {x}.\")\n",
    "        return\n",
    "    f = 1\n",
    "    for i in range(1, x + 1):\n",
    "        f *= i\n",
    "    print(f\"The factorial of {x} is {f}.\")\n",
    "\n",
    "\n",
    "x = int(input(\"Enter the number: \"))\n",
    "\n",
    "fact(x)"
   ]
  },
  {
   "cell_type": "markdown",
   "metadata": {},
   "source": [
    "### Filter function\n"
   ]
  },
  {
   "cell_type": "code",
   "execution_count": null,
   "metadata": {},
   "outputs": [],
   "source": [
    "# Define the function\n",
    "def is_even(x):\n",
    "    return x % 2 == 0\n",
    "\n",
    "\n",
    "z = [2, 4, 6, 4, 5, 7, 2, 9, 23, 14]\n",
    "\n",
    "y = list(filter(is_even, z))\n",
    "\n",
    "print(y)"
   ]
  },
  {
   "cell_type": "markdown",
   "metadata": {},
   "source": [
    "_or_  \n",
    "Using lambda\n"
   ]
  },
  {
   "cell_type": "code",
   "execution_count": null,
   "metadata": {},
   "outputs": [],
   "source": [
    "# or\n",
    "z = [2, 4, 6, 4, 5, 7, 2, 9, 23, 14]\n",
    "\n",
    "y = list(filter(lambda x: x % 2 != 0, z))  # Lambda, print the odd...\n",
    "\n",
    "print(y)"
   ]
  },
  {
   "cell_type": "markdown",
   "metadata": {},
   "source": [
    "### Print the second highest number\n"
   ]
  },
  {
   "cell_type": "code",
   "execution_count": null,
   "metadata": {},
   "outputs": [],
   "source": [
    "# x = [3, 8, 2, 5, 8, 6, 6, 7]\n",
    "x = map(int, input().split(\" \"))\n",
    "\n",
    "i = sorted(x, reverse=True)\n",
    "# print(i)\n",
    "\n",
    "a = 0\n",
    "for z in range(len(i) - 1):\n",
    "    if i[i.index(max(i)) + 1] == i[z]:\n",
    "        a += 1\n",
    "\n",
    "print(i[i.index(max(i)) + a])"
   ]
  }
 ],
 "metadata": {
  "kernelspec": {
   "display_name": "Learning_Python",
   "language": "python",
   "name": "python3"
  },
  "language_info": {
   "codemirror_mode": {
    "name": "ipython",
    "version": 3
   },
   "file_extension": ".py",
   "mimetype": "text/x-python",
   "name": "python",
   "nbconvert_exporter": "python",
   "pygments_lexer": "ipython3",
   "version": "3.12.4"
  }
 },
 "nbformat": 4,
 "nbformat_minor": 2
}
