{
 "cells": [
  {
   "cell_type": "markdown",
   "metadata": {},
   "source": [
    "### Check prime number\n"
   ]
  },
  {
   "cell_type": "code",
   "execution_count": null,
   "metadata": {},
   "outputs": [],
   "source": [
    "# Check prime number\n",
    "x = int(input(\"Enter a number: \"))\n",
    "\n",
    "for i in range(2, x):\n",
    "    if x % i == 0:\n",
    "        print(\"Not a Prime number\")\n",
    "        break\n",
    "else:\n",
    "    print(\"it's a Prime number\")"
   ]
  },
  {
   "cell_type": "markdown",
   "metadata": {},
   "source": [
    "## Do some Calculation - manually\n"
   ]
  },
  {
   "cell_type": "code",
   "execution_count": null,
   "metadata": {},
   "outputs": [],
   "source": [
    "x = input(\"Enter the problem: \")\n",
    "\n",
    "print(eval(x))"
   ]
  },
  {
   "cell_type": "markdown",
   "metadata": {},
   "source": [
    "## Array\n"
   ]
  },
  {
   "cell_type": "markdown",
   "metadata": {},
   "source": [
    "#### Create an array, append elements, then find the index of the element\n"
   ]
  },
  {
   "cell_type": "code",
   "execution_count": null,
   "metadata": {},
   "outputs": [],
   "source": [
    "from array import *\n",
    "\n",
    "arr = array(\"i\", [])\n",
    "\n",
    "n = int(input(\"Enter the size of the array: \"))\n",
    "\n",
    "for i in range(n):\n",
    "    x = int(input(\"Enter the elements: \"))\n",
    "    arr.append(x)\n",
    "\n",
    "print(arr)  # optional\n",
    "\n",
    "e = int(input(\"Enter the element to be searched: \"))\n",
    "# this built-in function doesn't return if there is multiple index\n",
    "# print(arr.index(e))\n",
    "\n",
    "k = 0\n",
    "for i in arr:\n",
    "    if i == e:\n",
    "        print(k)\n",
    "        # break\n",
    "    k += 1"
   ]
  },
  {
   "cell_type": "markdown",
   "metadata": {},
   "source": [
    "### Fibonacci series\n"
   ]
  },
  {
   "cell_type": "code",
   "execution_count": null,
   "metadata": {},
   "outputs": [],
   "source": [
    "# fibonacci series\n",
    "\"\"\"\n",
    "    Calculates and prints the Fibonacci series up to the given number.\n",
    "    Parameters:\n",
    "        x (int): The number of Fibonacci numbers to calculate.\n",
    "\n",
    "    Returns:\n",
    "        None\n",
    "\"\"\"\n",
    "\n",
    "\n",
    "def fib(x):\n",
    "    if x <= 1:\n",
    "        print(0)\n",
    "        exit()\n",
    "\n",
    "    a, b = 0, 1\n",
    "    for i in range(x):\n",
    "        print(a, end=\", \")\n",
    "        a, b = b, a + b\n",
    "\n",
    "\n",
    "x = int(input(\"Enter the size: \"))\n",
    "fib(x)  # call the function"
   ]
  }
 ],
 "metadata": {
  "kernelspec": {
   "display_name": "Learning_Python",
   "language": "python",
   "name": "python3"
  },
  "language_info": {
   "codemirror_mode": {
    "name": "ipython",
    "version": 3
   },
   "file_extension": ".py",
   "mimetype": "text/x-python",
   "name": "python",
   "nbconvert_exporter": "python",
   "pygments_lexer": "ipython3",
   "version": "3.12.4"
  }
 },
 "nbformat": 4,
 "nbformat_minor": 2
}
