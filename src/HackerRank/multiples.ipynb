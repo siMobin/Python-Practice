{
 "cells": [
  {
   "cell_type": "markdown",
   "metadata": {},
   "source": [
    "Code I wrote:\n"
   ]
  },
  {
   "cell_type": "code",
   "execution_count": null,
   "metadata": {},
   "outputs": [],
   "source": [
    "# Read the number of test cases\n",
    "z = int(input())\n",
    "\n",
    "# Collect all test cases\n",
    "test_cases = []\n",
    "for _ in range(z):\n",
    "    x = int(input())\n",
    "    test_cases.append(x)\n",
    "\n",
    "# Process each test case\n",
    "for x in test_cases:\n",
    "    sum = 0\n",
    "    for i in range(1, x):\n",
    "        if i % 3 == 0 or i % 5 == 0:\n",
    "            # print(i, end=\" \")\n",
    "            sum += i\n",
    "    # print(\"\\nSum = \", sum, \"x=\", x)\n",
    "    print(sum)\n",
    "    # print()"
   ]
  },
  {
   "cell_type": "markdown",
   "metadata": {},
   "source": [
    "Code they want:\n"
   ]
  },
  {
   "cell_type": "code",
   "execution_count": null,
   "metadata": {},
   "outputs": [],
   "source": [
    "def sum_divisible_by(n, x):\n",
    "    p = (x - 1) // n\n",
    "    return n * p * (p + 1) // 2\n",
    "\n",
    "\n",
    "# Read the number of test cases\n",
    "z = int(input())\n",
    "\n",
    "# Collect all test cases\n",
    "test_cases = []\n",
    "for _ in range(z):\n",
    "    x = int(input())\n",
    "    test_cases.append(x)\n",
    "\n",
    "# Process each test case\n",
    "for x in test_cases:\n",
    "    sum_3 = sum_divisible_by(3, x)\n",
    "    sum_5 = sum_divisible_by(5, x)\n",
    "    sum_15 = sum_divisible_by(15, x)\n",
    "    result = sum_3 + sum_5 - sum_15\n",
    "    print(result)"
   ]
  }
 ],
 "metadata": {
  "language_info": {
   "name": "python"
  }
 },
 "nbformat": 4,
 "nbformat_minor": 2
}
