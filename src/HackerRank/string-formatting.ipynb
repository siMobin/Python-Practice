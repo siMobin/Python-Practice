{
 "cells": [
  {
   "cell_type": "markdown",
   "metadata": {},
   "source": [
    "What I do...\n",
    "\n",
    "https://www.hackerrank.com/challenges/python-string-formatting/problem?isFullScreen=true\n"
   ]
  },
  {
   "cell_type": "code",
   "execution_count": null,
   "metadata": {},
   "outputs": [],
   "source": [
    "x = int(input())\n",
    "\n",
    "for x in range(1, x + 1):\n",
    "    print(x, oct(x)[2:], hex(x)[2:], bin(x)[2:])"
   ]
  },
  {
   "cell_type": "markdown",
   "metadata": {},
   "source": [
    "What the answer should be...\n"
   ]
  },
  {
   "cell_type": "code",
   "execution_count": null,
   "metadata": {},
   "outputs": [],
   "source": [
    "def print_formatted(number):\n",
    "    width = len(bin(number)[2:])\n",
    "    for x in range(1, number + 1):\n",
    "        print(\n",
    "            f\"{x:>{width}} {oct(x)[2:]:>{width}} {hex(x)[2:].upper():>{width}} {bin(x)[2:]:>{width}}\"\n",
    "        )\n",
    "\n",
    "\n",
    "if __name__ == \"__main__\":\n",
    "    n = int(input())\n",
    "    print_formatted(n)"
   ]
  }
 ],
 "metadata": {
  "language_info": {
   "name": "python"
  }
 },
 "nbformat": 4,
 "nbformat_minor": 2
}
