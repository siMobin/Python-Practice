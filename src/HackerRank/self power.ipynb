{
 "cells": [
  {
   "cell_type": "markdown",
   "metadata": {},
   "source": [
    "My code\n"
   ]
  },
  {
   "cell_type": "code",
   "execution_count": null,
   "metadata": {},
   "outputs": [],
   "source": [
    "n = int(input())\n",
    "sum = 0\n",
    "for i in range(1, n + 1):\n",
    "    # print(i, end=\" \")\n",
    "    # print(i**i, end=\" \")\n",
    "    sum = sum + (i**i)\n",
    "\n",
    "# print(\"\\nSum = \", sum)\n",
    "# print(sum)\n",
    "\n",
    "print(sum % 10000000000)"
   ]
  },
  {
   "cell_type": "markdown",
   "metadata": {},
   "source": [
    "What they want:\n"
   ]
  },
  {
   "cell_type": "code",
   "execution_count": null,
   "metadata": {},
   "outputs": [],
   "source": [
    "n = int(input())\n",
    "mod = 10000000000  # We only care about the last 10 digits\n",
    "sum = 0\n",
    "\n",
    "for i in range(1, n + 1):\n",
    "    term = pow(i, i, mod)  # Efficiently calculate i^i % 10^10\n",
    "    sum = (sum + term) % mod  # Keep the running sum modulo 10^10\n",
    "\n",
    "print(sum)"
   ]
  }
 ],
 "metadata": {
  "language_info": {
   "name": "python"
  }
 },
 "nbformat": 4,
 "nbformat_minor": 2
}
